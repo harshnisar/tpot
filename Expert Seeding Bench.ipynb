{
 "cells": [
  {
   "cell_type": "code",
   "execution_count": 14,
   "metadata": {
    "collapsed": false
   },
   "outputs": [
    {
     "name": "stdout",
     "output_type": "stream",
     "text": [
      "\n",
      "Executing random seed\n",
      "Best pipeline: _binarizer(_ada_boost(_rfe(_random_forest(input_df, 0.02), 34, 0.91000000000000003), 0.69000000000000006), 0.85999999999999999)\n",
      "0.947044334975\n",
      "\n",
      "Executing pooled seed\n",
      "Best pipeline: _extra_trees(_passive_aggressive(input_df, 0.70000000000000007, 25), 35, 0.48, 0.88)\n",
      "0.941297208539\n"
     ]
    }
   ],
   "source": [
    "from tpot import TPOT\n",
    "from sklearn.datasets import load_digits, load_breast_cancer\n",
    "from sklearn.cross_validation import train_test_split\n",
    "\n",
    "digits = load_breast_cancer()\n",
    "X_train, X_test, y_train, y_test = train_test_split(digits.data, digits.target,\n",
    "                                                    train_size=0.75, test_size=0.25, random_state=2)\n",
    "\n",
    "print('\\nExecuting random seed')\n",
    "tpot = TPOT(generations=10, verbosity=1, population_size=5, seed_method='random')\n",
    "tpot.fit(X_train, y_train)\n",
    "print(tpot.score(X_test, y_test))\n",
    "\n",
    "# Generator should be ignored for now.\n",
    "# print('\\nExecuting generator seed')\n",
    "# tpot = TPOT(generations=5, verbosity=2, population_size=5, seed_method='generator')\n",
    "# tpot.fit(X_train, y_train)\n",
    "\n",
    "print('\\nExecuting pooled seed')\n",
    "tpot = TPOT(generations=10, verbosity=1, population_size=5, seed_method='pool')\n",
    "tpot.fit(X_train, y_train)\n",
    "print(tpot.score(X_test, y_test))\n"
   ]
  },
  {
   "cell_type": "code",
   "execution_count": 13,
   "metadata": {
    "collapsed": false
   },
   "outputs": [
    {
     "data": {
      "text/plain": [
       "5"
      ]
     },
     "execution_count": 13,
     "metadata": {},
     "output_type": "execute_result"
    }
   ],
   "source": [
    "tpot.pool_called"
   ]
  },
  {
   "cell_type": "code",
   "execution_count": 15,
   "metadata": {
    "collapsed": false
   },
   "outputs": [],
   "source": [
    "\n",
    "gg = [str(tpot._toolbox.seed_individual()) for i in range(0,20)]"
   ]
  },
  {
   "cell_type": "code",
   "execution_count": 17,
   "metadata": {
    "collapsed": false
   },
   "outputs": [
    {
     "data": {
      "text/plain": [
       "{'_ada_boost(input_df, 0.32)',\n",
       " '_extra_trees(input_df, 1, 0.41000000000000003, 0.68)',\n",
       " '_extra_trees(input_df, 44, 0.48, 0.88)',\n",
       " '_gradient_boosting(input_df, 0.53, 19.0, 1e-05)',\n",
       " '_random_forest(_gradient_boosting(input_df, 34.0, 41.0, 0.01), 0.23)'}"
      ]
     },
     "execution_count": 17,
     "metadata": {},
     "output_type": "execute_result"
    }
   ],
   "source": [
    "set(gg)"
   ]
  },
  {
   "cell_type": "code",
   "execution_count": null,
   "metadata": {
    "collapsed": true
   },
   "outputs": [],
   "source": []
  }
 ],
 "metadata": {
  "anaconda-cloud": {},
  "kernelspec": {
   "display_name": "Python [Root]",
   "language": "python",
   "name": "Python [Root]"
  },
  "language_info": {
   "codemirror_mode": {
    "name": "ipython",
    "version": 3
   },
   "file_extension": ".py",
   "mimetype": "text/x-python",
   "name": "python",
   "nbconvert_exporter": "python",
   "pygments_lexer": "ipython3",
   "version": "3.5.2"
  }
 },
 "nbformat": 4,
 "nbformat_minor": 0
}
